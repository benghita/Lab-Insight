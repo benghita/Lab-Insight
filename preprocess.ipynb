{
  "cells": [
    {
      "cell_type": "code",
      "execution_count": null,
      "metadata": {
        "colab": {
          "base_uri": "https://localhost:8080/",
          "height": 308
        },
        "id": "WpkCI6haEIQc",
        "outputId": "a44c7e84-6f38-4352-f306-8044cfab3b8e"
      },
      "outputs": [],
      "source": [
        "#!pip3.11 install langchain pypdf openai chromadb"
      ]
    },
    {
      "cell_type": "code",
      "execution_count": 23,
      "metadata": {
        "id": "AadmTsnPaAts"
      },
      "outputs": [],
      "source": [
        "import os\n",
        "from langchain.document_loaders import PyPDFLoader\n",
        "from langchain.document_loaders import TextLoader\n",
        "from langchain.embeddings.openai import OpenAIEmbeddings\n",
        "from langchain.text_splitter import CharacterTextSplitter\n",
        "from langchain.vectorstores import Chroma\n",
        "from langchain.llms import OpenAI\n",
        "from langchain.chains import RetrievalQA"
      ]
    },
    {
      "cell_type": "markdown",
      "metadata": {},
      "source": [
        "##### Load \"Guide to Laboratory Tests\" PDF file "
      ]
    },
    {
      "cell_type": "code",
      "execution_count": 2,
      "metadata": {
        "colab": {
          "base_uri": "https://localhost:8080/"
        },
        "id": "GVHhErmW5qZh",
        "outputId": "3f116233-415f-4985-c8fc-8f494156fac3"
      },
      "outputs": [
        {
          "data": {
            "text/plain": [
              "232"
            ]
          },
          "execution_count": 2,
          "metadata": {},
          "output_type": "execute_result"
        }
      ],
      "source": [
        "loader = PyPDFLoader(\"https://www.ampath.co.za/pdfs/Desk-Reference-web.pdf\")\n",
        "pages = loader.load()\n",
        "\n",
        "# Replace \"�\" with \".\"\n",
        "pages = [page.page_content.replace(\"�\", \".\") for page in pages]\n",
        "len(pages)"
      ]
    },
    {
      "cell_type": "markdown",
      "metadata": {},
      "source": [
        "##### Extract BIOCHEMISTRY and HAEMATOLOGY sections"
      ]
    },
    {
      "cell_type": "code",
      "execution_count": 3,
      "metadata": {
        "id": "S__dZ7mY53dv"
      },
      "outputs": [],
      "source": [
        "def save_section(file_name, section):\n",
        "  with open(f\"{file_name}.txt\", \"w\") as f:\n",
        "    for page in section:\n",
        "        f.write(page)\n",
        "\n",
        "Abbreviations_and_Symbols = pages[11:18]\n",
        "BIOCHEMISTRY = pages[19:66]\n",
        "HAEMATOLOGY = pages[114:146]\n",
        "\n",
        "save_section(\"Abbreviations_and_Symbols\", Abbreviations_and_Symbols)\n",
        "save_section(\"BIOCHEMISTRY\", BIOCHEMISTRY)\n",
        "save_section(\"HAEMATOLOGY\", HAEMATOLOGY)"
      ]
    },
    {
      "cell_type": "markdown",
      "metadata": {},
      "source": [
        "##### Extract and Save sub-sections as list items"
      ]
    },
    {
      "cell_type": "code",
      "execution_count": 4,
      "metadata": {
        "id": "k_CNx_6y6kYW"
      },
      "outputs": [],
      "source": [
        "def extract_sections_from_text(file_name, section_titles):\n",
        "    with open(f\"./{file_name}.txt\", 'r', encoding='utf-8') as txt_file:\n",
        "        lines = txt_file.readlines()\n",
        "\n",
        "        sections = {}\n",
        "        current_section = None\n",
        "\n",
        "        for line in lines:\n",
        "            for title in section_titles[:-1]:\n",
        "                if title in line:\n",
        "                    current_section = title\n",
        "                    sections[current_section] = \"\"\n",
        "\n",
        "                if current_section is not None and line not in sections[current_section]:\n",
        "                    sections[current_section] += line\n",
        "\n",
        "            # Check if the current line contains the last section title\n",
        "            if current_section == section_titles[-1] and section_titles[-1] in line:\n",
        "                break\n",
        "\n",
        "    return sections"
      ]
    },
    {
      "cell_type": "code",
      "execution_count": 5,
      "metadata": {
        "colab": {
          "base_uri": "https://localhost:8080/"
        },
        "id": "l3UM7u3g6lX-",
        "outputId": "5000ac52-c497-495c-ff23-448cc8dda45a"
      },
      "outputs": [
        {
          "data": {
            "text/plain": [
              "11"
            ]
          },
          "execution_count": 5,
          "metadata": {},
          "output_type": "execute_result"
        }
      ],
      "source": [
        "BIOCHEMISTRY_section_titles = [\"Electrolytes and renal function\", \"Diagnosis of Chronic Kidney Disease (CKD)\",\n",
        "                  \"Calcium, magnesium, phosphate, vitamin D and PTH\", \"Liver function tests\",\n",
        "                  \"Pancreas\", \"Inflammatory markers\",\n",
        "                  \"Cardiac and skeletal muscle markers\", \"Carbohydrate metabolism\",\n",
        "                  \"Lipid metabolism\", \"Iron studies\", \"Folate and vitamin B12\", \"ENDOCRINOLOGY\"]\n",
        "BIOCHEMISTRY_subsections = extract_sections_from_text(\"BIOCHEMISTRY\", BIOCHEMISTRY_section_titles)\n",
        "len(BIOCHEMISTRY_subsections)"
      ]
    },
    {
      "cell_type": "code",
      "execution_count": 6,
      "metadata": {
        "colab": {
          "base_uri": "https://localhost:8080/"
        },
        "id": "QdnftPwx6nUe",
        "outputId": "76af0f56-eb9e-4b91-cc09-bb94017008f1"
      },
      "outputs": [
        {
          "data": {
            "text/plain": [
              "13"
            ]
          },
          "execution_count": 6,
          "metadata": {},
          "output_type": "execute_result"
        }
      ],
      "source": [
        "HAEMATOLOGY_section_titles = [\"Full blood count (FBC)\", \"ESR (erythrocyte sedimentation rate)\",\n",
        "                              \"Investigation of a bleeding disorder\", \"Disseminated intravascular coagulation (DIC) screen\",\n",
        "                              \"Tests used in the investigation of a thrombotic tendency\",\n",
        "                              \"Testing for the presence of a lupus anticoagulant\",\n",
        "                              \"Monitoring of anticoagulation therapy\",\n",
        "                              \"Bone marrow investigation\", \"Flow cytometry\",\n",
        "                              \"Tests used in the investigation of a haemolytic process\",\n",
        "                              \"Testing for inherited enzyme abnormalities\",\n",
        "                              \"Malaria testing\", \"JAK2 V617F PCR\", \"IMMUNOLOGY\"]\n",
        "HAEMATOLOGY_subsections = extract_sections_from_text(\"HAEMATOLOGY\", HAEMATOLOGY_section_titles)\n",
        "len(HAEMATOLOGY_subsections)"
      ]
    },
    {
      "cell_type": "markdown",
      "metadata": {},
      "source": [
        "##### Initialize text splitter"
      ]
    },
    {
      "cell_type": "code",
      "execution_count": 7,
      "metadata": {
        "id": "mj2Qvp436pdP"
      },
      "outputs": [],
      "source": [
        "text_splitter = CharacterTextSplitter(\n",
        "    chunk_size = 1500,\n",
        "    chunk_overlap  = 250,\n",
        ")"
      ]
    },
    {
      "cell_type": "markdown",
      "metadata": {},
      "source": [
        "##### Split each sub-section into chunks"
      ]
    },
    {
      "cell_type": "code",
      "execution_count": 10,
      "metadata": {
        "colab": {
          "base_uri": "https://localhost:8080/"
        },
        "id": "DSc835WV71Hs",
        "outputId": "6c59bd62-a567-4c7d-beb1-3d97f7ad0cb1"
      },
      "outputs": [
        {
          "name": "stdout",
          "output_type": "stream",
          "text": [
            "importing section: Electrolytes and renal function\n",
            "importing section: Diagnosis of Chronic Kidney Disease (CKD)\n",
            "importing section: Calcium, magnesium, phosphate, vitamin D and PTH\n",
            "importing section: Liver function tests\n",
            "importing section: Pancreas\n",
            "importing section: Inflammatory markers\n",
            "importing section: Cardiac and skeletal muscle markers\n",
            "importing section: Carbohydrate metabolism\n",
            "importing section: Lipid metabolism\n",
            "importing section: Iron studies\n",
            "importing section: Folate and vitamin B12\n",
            "importing section: Full blood count (FBC)\n",
            "importing section: ESR (erythrocyte sedimentation rate)\n",
            "importing section: Investigation of a bleeding disorder\n",
            "importing section: Disseminated intravascular coagulation (DIC) screen\n",
            "importing section: Tests used in the investigation of a thrombotic tendency\n",
            "importing section: Testing for the presence of a lupus anticoagulant\n",
            "importing section: Monitoring of anticoagulation therapy\n",
            "importing section: Bone marrow investigation\n",
            "importing section: Flow cytometry\n",
            "importing section: Tests used in the investigation of a haemolytic process\n",
            "importing section: Testing for inherited enzyme abnormalities\n",
            "importing section: Malaria testing\n",
            "importing section: JAK2 V617F PCR\n"
          ]
        }
      ],
      "source": [
        "Abbreviations_and_Symbols_chunks = text_splitter.create_documents([('\\n').join(Abbreviations_and_Symbols)])\n",
        "\n",
        "BIOCHEMISTRY_subsections_chunks = {}\n",
        "\n",
        "for i, d in BIOCHEMISTRY_subsections.items():\n",
        "        print(f\"importing section: {i}\")\n",
        "        BIOCHEMISTRY_subsections_chunks[i] = text_splitter.create_documents([BIOCHEMISTRY_subsections[i]])\n",
        "\n",
        "HAEMATOLOGY_subsections_chunks = {}\n",
        "\n",
        "for i, d in HAEMATOLOGY_subsections.items():\n",
        "        print(f\"importing section: {i}\")\n",
        "        HAEMATOLOGY_subsections_chunks[i] = text_splitter.create_documents([HAEMATOLOGY_subsections[i]])"
      ]
    },
    {
      "cell_type": "markdown",
      "metadata": {},
      "source": [
        "##### create the embedding function"
      ]
    },
    {
      "cell_type": "code",
      "execution_count": 11,
      "metadata": {
        "colab": {
          "base_uri": "https://localhost:8080/",
          "height": 617
        },
        "id": "Rphbq3Y09ZqK",
        "outputId": "ad658658-7e7d-4e67-fc1f-515a45a9c593"
      },
      "outputs": [],
      "source": [
        "embedding = OpenAIEmbeddings()\n",
        "Abbreviations_and_Symbols_vectors = Chroma.from_documents(Abbreviations_and_Symbols_chunks, embedding=embedding)\n",
        "chain = RetrievalQA.from_chain_type(llm = OpenAI(),\n",
        "                                    retriever = Abbreviations_and_Symbols_vectors.as_retriever(),\n",
        "                                    chain_type=\"stuff\")"
      ]
    },
    {
      "cell_type": "code",
      "execution_count": 13,
      "metadata": {
        "id": "Bc0xBgfUIRiS"
      },
      "outputs": [
        {
          "name": "stderr",
          "output_type": "stream",
          "text": [
            "Number of requested results 4 is greater than number of elements in index 1, updating n_results = 1\n"
          ]
        },
        {
          "data": {
            "text/plain": [
              "' CrCl stands for Creatinine Clearance, which is used to measure how well the kidneys are filtering wastes from blood. It is calculated by measuring the creatinine in urine and comparing it to the creatinine in blood.'"
            ]
          },
          "execution_count": 13,
          "metadata": {},
          "output_type": "execute_result"
        }
      ],
      "source": [
        "query = \"what is CrCl in laboratry and explain it \"\n",
        "chain.run(query)"
      ]
    },
    {
      "cell_type": "code",
      "execution_count": null,
      "metadata": {},
      "outputs": [],
      "source": [
        "embedding = OpenAIEmbeddings()\n",
        "Abbreviations_and_Symbols_with_embeddings = Chroma.from_documents(documents = Abbreviations_and_Symbols_chunks,\n",
        "                                                                  embedding=embedding)\n",
        "query = \"what is CrCl in laboratry and explain it\"\n",
        "query_context = Abbreviations_and_Symbols_with_embeddings.similarity_search(query)\n",
        "Abbreviations_and_Symbols_vectors = Chroma.from_documents(query_context, embedding=embedding)\n",
        "chain = RetrievalQA.from_chain_type(llm = OpenAI(),\n",
        "                                    retriever = Abbreviations_and_Symbols_vectors.as_retriever(),\n",
        "                                    chain_type=\"stuff\")\n",
        "\n",
        "chain.run(query)"
      ]
    },
    {
      "cell_type": "markdown",
      "metadata": {},
      "source": [
        "##### Save each sub-section data in \"persist_directory\""
      ]
    },
    {
      "cell_type": "code",
      "execution_count": 25,
      "metadata": {},
      "outputs": [],
      "source": [
        "persist_dir = \"./persist_db/\"\n",
        "embedding = OpenAIEmbeddings()\n",
        "Abbreviations_and_Symbols_vectordb = Chroma.from_documents(documents = Abbreviations_and_Symbols_chunks,\n",
        "                                                           embedding = embedding,\n",
        "                                                           persist_directory = f\"{persist_dir}Abbreviations_and_Symbols\")\n",
        "Abbreviations_and_Symbols_vectordb.persist()"
      ]
    },
    {
      "cell_type": "code",
      "execution_count": 26,
      "metadata": {},
      "outputs": [],
      "source": [
        "for key in BIOCHEMISTRY_subsections.keys():\n",
        "    BIOCHEMISTRY_subsection_vectordb = Chroma.from_documents(documents = BIOCHEMISTRY_subsections_chunks[key],\n",
        "                                                           embedding = embedding,\n",
        "                                                           persist_directory = f\"{persist_dir}BIOCHEMISTRY/{key}\")\n",
        "    BIOCHEMISTRY_subsection_vectordb.persist()\n",
        "\n",
        "for key in HAEMATOLOGY_subsections.keys():\n",
        "    HAEMATOLOGY_subsection_vectordb = Chroma.from_documents(documents = HAEMATOLOGY_subsections_chunks[key],\n",
        "                                                           embedding = embedding,\n",
        "                                                           persist_directory = f\"{persist_dir}HAEMATOLOGY/{key}\")\n",
        "    HAEMATOLOGY_subsection_vectordb.persist()\n"
      ]
    },
    {
      "cell_type": "code",
      "execution_count": 32,
      "metadata": {},
      "outputs": [
        {
          "name": "stderr",
          "output_type": "stream",
          "text": [
            "Number of requested results 4 is greater than number of elements in index 1, updating n_results = 1\n"
          ]
        },
        {
          "data": {
            "text/plain": [
              "\" CrCl stands for Creatinine Clearance. It is a measure of how well the kidneys are filtering creatinine, which is a waste product in the blood. It is calculated by dividing the amount of creatinine in the urine by the amount of creatinine in the blood and multiplying by the patient's body surface area. It is typically used to assess kidney function.\""
            ]
          },
          "execution_count": 32,
          "metadata": {},
          "output_type": "execute_result"
        }
      ],
      "source": [
        "vectordb = None\n",
        "embedding = OpenAIEmbeddings()\n",
        "vectordb = Chroma(embedding_function = embedding,\n",
        "                  persist_directory = f\"{persist_dir}Abbreviations_and_Symbols\")\n",
        "\n",
        "chain = RetrievalQA.from_chain_type(llm = OpenAI(),\n",
        "                                    retriever = vectordb.as_retriever(),\n",
        "                                    chain_type=\"stuff\")\n",
        "generated_text = chain.run(query)\n",
        "generated_text"
      ]
    },
    {
      "cell_type": "code",
      "execution_count": 33,
      "metadata": {},
      "outputs": [
        {
          "name": "stdout",
          "output_type": "stream",
          "text": [
            " CrCl stands for Creatinine Clearance. It is a measure of how well the kidneys are filtering creatinine, which is a waste product in the blood. It is calculated by dividing the amount of creatinine in the urine by the amount of creatinine in the blood and multiplying by the patient's body surface area. It is typically used to assess kidney function.\n"
          ]
        }
      ],
      "source": [
        "print(generated_text)"
      ]
    },
    {
      "cell_type": "code",
      "execution_count": null,
      "metadata": {},
      "outputs": [],
      "source": []
    }
  ],
  "metadata": {
    "colab": {
      "provenance": []
    },
    "kernelspec": {
      "display_name": "Python 3",
      "name": "python3"
    },
    "language_info": {
      "codemirror_mode": {
        "name": "ipython",
        "version": 3
      },
      "file_extension": ".py",
      "mimetype": "text/x-python",
      "name": "python",
      "nbconvert_exporter": "python",
      "pygments_lexer": "ipython3",
      "version": "3.11.6"
    }
  },
  "nbformat": 4,
  "nbformat_minor": 0
}
